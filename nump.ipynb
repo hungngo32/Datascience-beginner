{
 "cells": [
  {
   "cell_type": "code",
   "execution_count": 2,
   "metadata": {},
   "outputs": [],
   "source": [
    "import numpy as np"
   ]
  },
  {
   "cell_type": "markdown",
   "metadata": {},
   "source": [
    "### Create Numpy Array from Python Lists"
   ]
  },
  {
   "cell_type": "code",
   "execution_count": 3,
   "metadata": {},
   "outputs": [
    {
     "data": {
      "text/plain": [
       "array([1, 2, 3, 4])"
      ]
     },
     "execution_count": 3,
     "metadata": {},
     "output_type": "execute_result"
    }
   ],
   "source": [
    "np.array([1,2,3,4])"
   ]
  },
  {
   "cell_type": "code",
   "execution_count": 4,
   "metadata": {},
   "outputs": [
    {
     "data": {
      "text/plain": [
       "array([1., 2., 3., 4.], dtype=float32)"
      ]
     },
     "execution_count": 4,
     "metadata": {},
     "output_type": "execute_result"
    }
   ],
   "source": [
    "np.array([1,2,3,4],dtype=\"float32\")"
   ]
  },
  {
   "cell_type": "code",
   "execution_count": 6,
   "metadata": {},
   "outputs": [
    {
     "name": "stdout",
     "output_type": "stream",
     "text": [
      "[[1 2 3]\n",
      " [4 5 6]]\n"
     ]
    }
   ],
   "source": [
    "a=np.array([[1,2,3],[4,5,6]])\n",
    "print(a)"
   ]
  },
  {
   "cell_type": "code",
   "execution_count": 10,
   "metadata": {},
   "outputs": [
    {
     "data": {
      "text/plain": [
       "6"
      ]
     },
     "execution_count": 10,
     "metadata": {},
     "output_type": "execute_result"
    }
   ],
   "source": [
    "a.shape\n",
    "a.size"
   ]
  },
  {
   "cell_type": "markdown",
   "metadata": {},
   "source": [
    "### Creating Numpy Arrays from Scratch"
   ]
  },
  {
   "cell_type": "code",
   "execution_count": 13,
   "metadata": {},
   "outputs": [
    {
     "data": {
      "text/plain": [
       "array([[0, 0, 0, 0],\n",
       "       [0, 0, 0, 0]])"
      ]
     },
     "execution_count": 13,
     "metadata": {},
     "output_type": "execute_result"
    }
   ],
   "source": [
    "#zeros - tao mang toan so 0\n",
    "np.zeros([2,4],dtype=int)"
   ]
  },
  {
   "cell_type": "code",
   "execution_count": 14,
   "metadata": {},
   "outputs": [
    {
     "data": {
      "text/plain": [
       "array([[1, 1, 1],\n",
       "       [1, 1, 1]])"
      ]
     },
     "execution_count": 14,
     "metadata": {},
     "output_type": "execute_result"
    }
   ],
   "source": [
    "#ones - tao mang toan so 1\n",
    "np.ones([2,3],dtype=int)"
   ]
  },
  {
   "cell_type": "code",
   "execution_count": 15,
   "metadata": {},
   "outputs": [
    {
     "data": {
      "text/plain": [
       "array([ 0,  2,  4,  6,  8, 10, 12, 14, 16, 18])"
      ]
     },
     "execution_count": 15,
     "metadata": {},
     "output_type": "execute_result"
    }
   ],
   "source": [
    "#Tao mang tu a-b\n",
    "np.arange(0,20,2)"
   ]
  },
  {
   "cell_type": "code",
   "execution_count": 16,
   "metadata": {},
   "outputs": [
    {
     "data": {
      "text/plain": [
       "array([[12, 12, 12, 12, 12],\n",
       "       [12, 12, 12, 12, 12],\n",
       "       [12, 12, 12, 12, 12]])"
      ]
     },
     "execution_count": 16,
     "metadata": {},
     "output_type": "execute_result"
    }
   ],
   "source": [
    "np.full((3,5),12)"
   ]
  },
  {
   "cell_type": "code",
   "execution_count": 17,
   "metadata": {},
   "outputs": [
    {
     "data": {
      "text/plain": [
       "array([ 4.        ,  6.66666667,  9.33333333, 12.        ])"
      ]
     },
     "execution_count": 17,
     "metadata": {},
     "output_type": "execute_result"
    }
   ],
   "source": [
    "#Tao ra khoang cach nhau tuyen tinh\n",
    "np.linspace(4,12,4)"
   ]
  },
  {
   "cell_type": "code",
   "execution_count": 21,
   "metadata": {},
   "outputs": [
    {
     "data": {
      "text/plain": [
       "array([[0.5488135 , 0.71518937, 0.60276338, 0.54488318],\n",
       "       [0.4236548 , 0.64589411, 0.43758721, 0.891773  ],\n",
       "       [0.96366276, 0.38344152, 0.79172504, 0.52889492],\n",
       "       [0.56804456, 0.92559664, 0.07103606, 0.0871293 ]])"
      ]
     },
     "execution_count": 21,
     "metadata": {},
     "output_type": "execute_result"
    }
   ],
   "source": [
    "#Seed for reproducibility\n",
    "np.random.seed(0) #random ra nhieu may la nhu nhau\n",
    "np.random.random((4,4))"
   ]
  },
  {
   "cell_type": "code",
   "execution_count": 22,
   "metadata": {},
   "outputs": [
    {
     "data": {
      "text/plain": [
       "array([[20, 17, 20],\n",
       "       [ 6, 16, 16]])"
      ]
     },
     "execution_count": 22,
     "metadata": {},
     "output_type": "execute_result"
    }
   ],
   "source": [
    "np.random.randint(1,30,[2,3])"
   ]
  },
  {
   "cell_type": "markdown",
   "metadata": {},
   "source": [
    "### Array Indexing & Slicing"
   ]
  },
  {
   "cell_type": "code",
   "execution_count": 23,
   "metadata": {},
   "outputs": [
    {
     "data": {
      "text/plain": [
       "array([ 0, 18,  3, 17, 19, 19])"
      ]
     },
     "execution_count": 23,
     "metadata": {},
     "output_type": "execute_result"
    }
   ],
   "source": [
    "x1=np.random.randint(20,size=6)\n",
    "x1"
   ]
  },
  {
   "cell_type": "markdown",
   "metadata": {},
   "source": [
    "# Slicing\n",
    "## x[start: stop : step]"
   ]
  },
  {
   "cell_type": "code",
   "execution_count": null,
   "metadata": {},
   "outputs": [],
   "source": []
  },
  {
   "cell_type": "markdown",
   "metadata": {},
   "source": [
    "# Introduction\n",
    "### * Numpy ii a Python library\n",
    "### * For sciencetific computations\n",
    "### * Numpy arrays are multi-dimensional arrays"
   ]
  },
  {
   "cell_type": "code",
   "execution_count": 2,
   "metadata": {},
   "outputs": [
    {
     "name": "stdout",
     "output_type": "stream",
     "text": [
      "[1 2 3]\n"
     ]
    }
   ],
   "source": [
    "#create numpy array\n",
    "# from list\n",
    "import numpy as np\n",
    "l=list(range(1,4))\n",
    "arr=np.array(l)\n",
    "print(arr)"
   ]
  },
  {
   "cell_type": "code",
   "execution_count": 5,
   "metadata": {},
   "outputs": [
    {
     "name": "stdout",
     "output_type": "stream",
     "text": [
      "[1 2 3]\n",
      "(3,)\n",
      "1\n"
     ]
    }
   ],
   "source": [
    "#COMMON ATTRIBUTES\n",
    "# dtype: data type\n",
    "# shape: return a tuple of elements in dimension\n",
    "# ndim: return #demesion\n",
    "\n",
    "#Tao list 1 chieu\n",
    "list1D=[1,2,3]\n",
    "data=np.array(list1D)\n",
    "print(data)\n",
    "print(data.shape)\n",
    "print(data.ndim)\n"
   ]
  },
  {
   "cell_type": "code",
   "execution_count": 6,
   "metadata": {},
   "outputs": [
    {
     "name": "stdout",
     "output_type": "stream",
     "text": [
      "[[1 2]\n",
      " [3 4]\n",
      " [4 5]]\n",
      "(3, 2)\n",
      "2\n"
     ]
    }
   ],
   "source": [
    "#Tao list 2 chieu\n",
    "#------------------------\n",
    "\n",
    "list2D=np.array([[1,2],[3,4],[4,5]])\n",
    "\n",
    "data=np.array(list2D)\n",
    "print(data)\n",
    "print(data.shape)\n",
    "print(data.ndim)"
   ]
  },
  {
   "cell_type": "code",
   "execution_count": 10,
   "metadata": {},
   "outputs": [
    {
     "name": "stdout",
     "output_type": "stream",
     "text": [
      "[[0. 0. 0.]\n",
      " [0. 0. 0.]]\n",
      "[[1. 1. 1.]\n",
      " [1. 1. 1.]]\n",
      "[[2. 2. 2.]\n",
      " [2. 2. 2.]]\n"
     ]
    }
   ],
   "source": [
    "#Create Numpy array\n",
    "\n",
    "#---------------------\n",
    "#zeros function\n",
    "arr=np.zeros((2,3))\n",
    "print(arr)\n",
    "\n",
    "#--------------------\n",
    "#ones function()\n",
    "arr=np.ones((2,3))\n",
    "print(arr)\n",
    "\n",
    "#--------------------\n",
    "#full function() --> Tao phan tu fill_value\n",
    "\n",
    "arr=np.full((2,3),2,dtype=\"float\")\n",
    "print(arr)"
   ]
  },
  {
   "cell_type": "code",
   "execution_count": 15,
   "metadata": {},
   "outputs": [
    {
     "name": "stdout",
     "output_type": "stream",
     "text": [
      "[0 1 2 3 4]\n",
      "[0 2 4]\n",
      "[[1. 0. 0.]\n",
      " [0. 1. 0.]\n",
      " [0. 0. 1.]]\n",
      "[[0.93476684 0.18949464 0.62471729]\n",
      " [0.83391586 0.58427847 0.25262551]]\n"
     ]
    }
   ],
   "source": [
    "# arange() function\n",
    "arr=np.arange(5)\n",
    "print(arr)\n",
    "\n",
    "arr=np.arange(0,5,2)\n",
    "print(arr)\n",
    "\n",
    "#Tao 1 numpy array voi duong cheo la so 1 so 0 duoc dien vao o con lai\n",
    "arr=np.eye(3)\n",
    "print(arr)\n",
    "\n",
    "#random() function\n",
    "arr=np.random.random((2,3))\n",
    "print(arr)"
   ]
  },
  {
   "cell_type": "code",
   "execution_count": 16,
   "metadata": {},
   "outputs": [
    {
     "name": "stdout",
     "output_type": "stream",
     "text": [
      "data:  [1 2 3 4 5]\n",
      "result:  [3 3 3 4 5]\n"
     ]
    }
   ],
   "source": [
    "#SOME IMPORTANT FUNCTION\n",
    "\n",
    "from unittest import result\n",
    "\n",
    "\n",
    "data=np.array([1,2,3,4,5])\n",
    "print(\"data: \",data)\n",
    "\n",
    "#element < 3 se gan = 3\n",
    "#element > 6 se gan bang 6\n",
    "result = np.clip(data, a_min=3,a_max=6)\n",
    "print(\"result: \",result)\n",
    "\n"
   ]
  },
  {
   "cell_type": "code",
   "execution_count": 20,
   "metadata": {},
   "outputs": [
    {
     "name": "stdout",
     "output_type": "stream",
     "text": [
      "arr:  [1 2 3]\n",
      "arr1:  [4 5 6]\n",
      "res horizontal:  [1 2 3 4 5 6]\n",
      "res vertical:\n",
      "  [[1 2 3]\n",
      " [4 5 6]]\n"
     ]
    }
   ],
   "source": [
    "# function hstack() - ket hop array theo chieu ngang\n",
    "\n",
    "arr=np.array([1,2,3])\n",
    "print(\"arr: \",arr)\n",
    "\n",
    "arr1=np.array([4,5,6])\n",
    "print(\"arr1: \",arr1)\n",
    "\n",
    "res=np.hstack((arr,arr1))\n",
    "print(\"res horizontal: \",res)\n",
    "res1=np.vstack((arr,arr1))\n",
    "print(\"res vertical:\\n \",res1)"
   ]
  },
  {
   "cell_type": "code",
   "execution_count": 29,
   "metadata": {},
   "outputs": [
    {
     "name": "stdout",
     "output_type": "stream",
     "text": [
      "arr:  [[1 2 3]]\n",
      "arr shape:  (1, 3)\n",
      "arr1:  [[4 5 6]]\n",
      "arr1.shape:  (1, 3)\n",
      "result:  [[4 5 6]\n",
      " [1 2 3]]\n"
     ]
    }
   ],
   "source": [
    "#function concatenate()\n",
    "arr=np.array([[1,2,3]])\n",
    "print(\"arr: \",arr)\n",
    "print(\"arr shape: \",arr.shape)\n",
    "\n",
    "arr1=np.array([[4,5,6]])\n",
    "print(\"arr1: \",arr1)\n",
    "print(\"arr1.shape: \",arr1.shape)\n",
    "\n",
    "#Noi 2 array theo chieu ngang \n",
    "result=np.concatenate((arr1,arr),axis=0)\n",
    "print(\"result: \",result)"
   ]
  },
  {
   "cell_type": "code",
   "execution_count": 31,
   "metadata": {},
   "outputs": [
    {
     "name": "stdout",
     "output_type": "stream",
     "text": [
      "arr.shape:  (5,)\n",
      "2D array  [[1]\n",
      " [2]\n",
      " [3]\n",
      " [4]\n",
      " [5]]\n",
      "[[1 2 3 4 5]]\n"
     ]
    }
   ],
   "source": [
    "arr=np.array([1,2,3,4,5])\n",
    "print(\"arr.shape: \",arr.shape)\n",
    "\n",
    "#1D array -> 2D array\n",
    "arr2d=arr[:,np.newaxis]\n",
    "print(\"2D array \",arr2d)\n",
    "\n",
    "arr2r=arr[np.newaxis,:]\n",
    "print(arr2r)\n",
    "#------------------TRANG 33-------------------------"
   ]
  }
 ],
 "metadata": {
  "kernelspec": {
   "display_name": "Python 3.9.12 ('base')",
   "language": "python",
   "name": "python3"
  },
  "language_info": {
   "codemirror_mode": {
    "name": "ipython",
    "version": 3
   },
   "file_extension": ".py",
   "mimetype": "text/x-python",
   "name": "python",
   "nbconvert_exporter": "python",
   "pygments_lexer": "ipython3",
   "version": "3.9.12"
  },
  "orig_nbformat": 4,
  "vscode": {
   "interpreter": {
    "hash": "77dd4e8a1b7f16ea2e65f4ac3ff041c3ce85aa43db934f3cfa4294176df3298a"
   }
  }
 },
 "nbformat": 4,
 "nbformat_minor": 2
}
